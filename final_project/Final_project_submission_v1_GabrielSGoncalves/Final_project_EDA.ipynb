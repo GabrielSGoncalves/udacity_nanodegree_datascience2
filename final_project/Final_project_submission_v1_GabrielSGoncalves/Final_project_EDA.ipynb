{
 "cells": [
  {
   "cell_type": "code",
   "execution_count": 1,
   "metadata": {},
   "outputs": [],
   "source": [
    "# Modules used on the analysis\n",
    "import sys\n",
    "import pickle\n",
    "sys.path.append(\"../tools/\")\n",
    "import pandas as pd\n",
    "import numpy as np\n",
    "from feature_format import featureFormat, targetFeatureSplit\n",
    "from tester import dump_classifier_and_data\n",
    "import seaborn as sns\n",
    "import matplotlib.pyplot as plt\n",
    "\n",
    "# set random seed\n",
    "#np.random.seed(1234)"
   ]
  },
  {
   "cell_type": "code",
   "execution_count": 2,
   "metadata": {},
   "outputs": [],
   "source": [
    "# Load the dictionary containing the dataset\n",
    "with open(\"final_project_dataset.pkl\", \"rb\") as data_file:\n",
    "    data_dict = pickle.load(data_file)\n",
    "\n",
    "# Create DataFrame from data_dict \n",
    "df_enron = pd.DataFrame.from_dict(data_dict, orient='index')"
   ]
  },
  {
   "cell_type": "code",
   "execution_count": 3,
   "metadata": {
    "scrolled": true
   },
   "outputs": [
    {
     "data": {
      "text/html": [
       "<div>\n",
       "<style scoped>\n",
       "    .dataframe tbody tr th:only-of-type {\n",
       "        vertical-align: middle;\n",
       "    }\n",
       "\n",
       "    .dataframe tbody tr th {\n",
       "        vertical-align: top;\n",
       "    }\n",
       "\n",
       "    .dataframe thead th {\n",
       "        text-align: right;\n",
       "    }\n",
       "</style>\n",
       "<table border=\"1\" class=\"dataframe\">\n",
       "  <thead>\n",
       "    <tr style=\"text-align: right;\">\n",
       "      <th></th>\n",
       "      <th>salary</th>\n",
       "      <th>to_messages</th>\n",
       "      <th>deferral_payments</th>\n",
       "      <th>total_payments</th>\n",
       "      <th>loan_advances</th>\n",
       "      <th>bonus</th>\n",
       "      <th>email_address</th>\n",
       "      <th>restricted_stock_deferred</th>\n",
       "      <th>deferred_income</th>\n",
       "      <th>total_stock_value</th>\n",
       "      <th>...</th>\n",
       "      <th>from_poi_to_this_person</th>\n",
       "      <th>exercised_stock_options</th>\n",
       "      <th>from_messages</th>\n",
       "      <th>other</th>\n",
       "      <th>from_this_person_to_poi</th>\n",
       "      <th>poi</th>\n",
       "      <th>long_term_incentive</th>\n",
       "      <th>shared_receipt_with_poi</th>\n",
       "      <th>restricted_stock</th>\n",
       "      <th>director_fees</th>\n",
       "    </tr>\n",
       "  </thead>\n",
       "  <tbody>\n",
       "    <tr>\n",
       "      <th>ALLEN PHILLIP K</th>\n",
       "      <td>201955</td>\n",
       "      <td>2902</td>\n",
       "      <td>2869717</td>\n",
       "      <td>4484442</td>\n",
       "      <td>NaN</td>\n",
       "      <td>4175000</td>\n",
       "      <td>phillip.allen@enron.com</td>\n",
       "      <td>-126027</td>\n",
       "      <td>-3081055</td>\n",
       "      <td>1729541</td>\n",
       "      <td>...</td>\n",
       "      <td>47</td>\n",
       "      <td>1729541</td>\n",
       "      <td>2195</td>\n",
       "      <td>152</td>\n",
       "      <td>65</td>\n",
       "      <td>False</td>\n",
       "      <td>304805</td>\n",
       "      <td>1407</td>\n",
       "      <td>126027</td>\n",
       "      <td>NaN</td>\n",
       "    </tr>\n",
       "    <tr>\n",
       "      <th>BADUM JAMES P</th>\n",
       "      <td>NaN</td>\n",
       "      <td>NaN</td>\n",
       "      <td>178980</td>\n",
       "      <td>182466</td>\n",
       "      <td>NaN</td>\n",
       "      <td>NaN</td>\n",
       "      <td>NaN</td>\n",
       "      <td>NaN</td>\n",
       "      <td>NaN</td>\n",
       "      <td>257817</td>\n",
       "      <td>...</td>\n",
       "      <td>NaN</td>\n",
       "      <td>257817</td>\n",
       "      <td>NaN</td>\n",
       "      <td>NaN</td>\n",
       "      <td>NaN</td>\n",
       "      <td>False</td>\n",
       "      <td>NaN</td>\n",
       "      <td>NaN</td>\n",
       "      <td>NaN</td>\n",
       "      <td>NaN</td>\n",
       "    </tr>\n",
       "    <tr>\n",
       "      <th>BANNANTINE JAMES M</th>\n",
       "      <td>477</td>\n",
       "      <td>566</td>\n",
       "      <td>NaN</td>\n",
       "      <td>916197</td>\n",
       "      <td>NaN</td>\n",
       "      <td>NaN</td>\n",
       "      <td>james.bannantine@enron.com</td>\n",
       "      <td>-560222</td>\n",
       "      <td>-5104</td>\n",
       "      <td>5243487</td>\n",
       "      <td>...</td>\n",
       "      <td>39</td>\n",
       "      <td>4046157</td>\n",
       "      <td>29</td>\n",
       "      <td>864523</td>\n",
       "      <td>0</td>\n",
       "      <td>False</td>\n",
       "      <td>NaN</td>\n",
       "      <td>465</td>\n",
       "      <td>1757552</td>\n",
       "      <td>NaN</td>\n",
       "    </tr>\n",
       "    <tr>\n",
       "      <th>BAXTER JOHN C</th>\n",
       "      <td>267102</td>\n",
       "      <td>NaN</td>\n",
       "      <td>1295738</td>\n",
       "      <td>5634343</td>\n",
       "      <td>NaN</td>\n",
       "      <td>1200000</td>\n",
       "      <td>NaN</td>\n",
       "      <td>NaN</td>\n",
       "      <td>-1386055</td>\n",
       "      <td>10623258</td>\n",
       "      <td>...</td>\n",
       "      <td>NaN</td>\n",
       "      <td>6680544</td>\n",
       "      <td>NaN</td>\n",
       "      <td>2660303</td>\n",
       "      <td>NaN</td>\n",
       "      <td>False</td>\n",
       "      <td>1586055</td>\n",
       "      <td>NaN</td>\n",
       "      <td>3942714</td>\n",
       "      <td>NaN</td>\n",
       "    </tr>\n",
       "    <tr>\n",
       "      <th>BAY FRANKLIN R</th>\n",
       "      <td>239671</td>\n",
       "      <td>NaN</td>\n",
       "      <td>260455</td>\n",
       "      <td>827696</td>\n",
       "      <td>NaN</td>\n",
       "      <td>400000</td>\n",
       "      <td>frank.bay@enron.com</td>\n",
       "      <td>-82782</td>\n",
       "      <td>-201641</td>\n",
       "      <td>63014</td>\n",
       "      <td>...</td>\n",
       "      <td>NaN</td>\n",
       "      <td>NaN</td>\n",
       "      <td>NaN</td>\n",
       "      <td>69</td>\n",
       "      <td>NaN</td>\n",
       "      <td>False</td>\n",
       "      <td>NaN</td>\n",
       "      <td>NaN</td>\n",
       "      <td>145796</td>\n",
       "      <td>NaN</td>\n",
       "    </tr>\n",
       "  </tbody>\n",
       "</table>\n",
       "<p>5 rows × 21 columns</p>\n",
       "</div>"
      ],
      "text/plain": [
       "                    salary to_messages deferral_payments total_payments  \\\n",
       "ALLEN PHILLIP K     201955        2902           2869717        4484442   \n",
       "BADUM JAMES P          NaN         NaN            178980         182466   \n",
       "BANNANTINE JAMES M     477         566               NaN         916197   \n",
       "BAXTER JOHN C       267102         NaN           1295738        5634343   \n",
       "BAY FRANKLIN R      239671         NaN            260455         827696   \n",
       "\n",
       "                   loan_advances    bonus               email_address  \\\n",
       "ALLEN PHILLIP K              NaN  4175000     phillip.allen@enron.com   \n",
       "BADUM JAMES P                NaN      NaN                         NaN   \n",
       "BANNANTINE JAMES M           NaN      NaN  james.bannantine@enron.com   \n",
       "BAXTER JOHN C                NaN  1200000                         NaN   \n",
       "BAY FRANKLIN R               NaN   400000         frank.bay@enron.com   \n",
       "\n",
       "                   restricted_stock_deferred deferred_income  \\\n",
       "ALLEN PHILLIP K                      -126027        -3081055   \n",
       "BADUM JAMES P                            NaN             NaN   \n",
       "BANNANTINE JAMES M                   -560222           -5104   \n",
       "BAXTER JOHN C                            NaN        -1386055   \n",
       "BAY FRANKLIN R                        -82782         -201641   \n",
       "\n",
       "                   total_stock_value  ... from_poi_to_this_person  \\\n",
       "ALLEN PHILLIP K              1729541  ...                      47   \n",
       "BADUM JAMES P                 257817  ...                     NaN   \n",
       "BANNANTINE JAMES M           5243487  ...                      39   \n",
       "BAXTER JOHN C               10623258  ...                     NaN   \n",
       "BAY FRANKLIN R                 63014  ...                     NaN   \n",
       "\n",
       "                   exercised_stock_options from_messages    other  \\\n",
       "ALLEN PHILLIP K                    1729541          2195      152   \n",
       "BADUM JAMES P                       257817           NaN      NaN   \n",
       "BANNANTINE JAMES M                 4046157            29   864523   \n",
       "BAXTER JOHN C                      6680544           NaN  2660303   \n",
       "BAY FRANKLIN R                         NaN           NaN       69   \n",
       "\n",
       "                   from_this_person_to_poi    poi  long_term_incentive  \\\n",
       "ALLEN PHILLIP K                         65  False               304805   \n",
       "BADUM JAMES P                          NaN  False                  NaN   \n",
       "BANNANTINE JAMES M                       0  False                  NaN   \n",
       "BAXTER JOHN C                          NaN  False              1586055   \n",
       "BAY FRANKLIN R                         NaN  False                  NaN   \n",
       "\n",
       "                   shared_receipt_with_poi restricted_stock director_fees  \n",
       "ALLEN PHILLIP K                       1407           126027           NaN  \n",
       "BADUM JAMES P                          NaN              NaN           NaN  \n",
       "BANNANTINE JAMES M                     465          1757552           NaN  \n",
       "BAXTER JOHN C                          NaN          3942714           NaN  \n",
       "BAY FRANKLIN R                         NaN           145796           NaN  \n",
       "\n",
       "[5 rows x 21 columns]"
      ]
     },
     "execution_count": 3,
     "metadata": {},
     "output_type": "execute_result"
    }
   ],
   "source": [
    "# Inspect Dataframe\n",
    "df_enron.head()"
   ]
  },
  {
   "cell_type": "code",
   "execution_count": 4,
   "metadata": {},
   "outputs": [],
   "source": [
    "# Drop email_address column\n",
    "df_enron = df_enron.drop('email_address', axis=1)"
   ]
  },
  {
   "cell_type": "code",
   "execution_count": 5,
   "metadata": {},
   "outputs": [
    {
     "name": "stdout",
     "output_type": "stream",
     "text": [
      "<class 'pandas.core.frame.DataFrame'>\n",
      "Index: 146 entries, ALLEN PHILLIP K to YEAP SOON\n",
      "Data columns (total 20 columns):\n",
      "salary                       146 non-null object\n",
      "to_messages                  146 non-null object\n",
      "deferral_payments            146 non-null object\n",
      "total_payments               146 non-null object\n",
      "loan_advances                146 non-null object\n",
      "bonus                        146 non-null object\n",
      "restricted_stock_deferred    146 non-null object\n",
      "deferred_income              146 non-null object\n",
      "total_stock_value            146 non-null object\n",
      "expenses                     146 non-null object\n",
      "from_poi_to_this_person      146 non-null object\n",
      "exercised_stock_options      146 non-null object\n",
      "from_messages                146 non-null object\n",
      "other                        146 non-null object\n",
      "from_this_person_to_poi      146 non-null object\n",
      "poi                          146 non-null bool\n",
      "long_term_incentive          146 non-null object\n",
      "shared_receipt_with_poi      146 non-null object\n",
      "restricted_stock             146 non-null object\n",
      "director_fees                146 non-null object\n",
      "dtypes: bool(1), object(19)\n",
      "memory usage: 23.0+ KB\n"
     ]
    }
   ],
   "source": [
    "# Verify datatypes for each column\n",
    "df_enron.info()"
   ]
  },
  {
   "cell_type": "code",
   "execution_count": 6,
   "metadata": {},
   "outputs": [
    {
     "name": "stdout",
     "output_type": "stream",
     "text": [
      "<class 'pandas.core.frame.DataFrame'>\n",
      "Index: 146 entries, ALLEN PHILLIP K to YEAP SOON\n",
      "Data columns (total 20 columns):\n",
      "salary                       95 non-null float64\n",
      "to_messages                  86 non-null float64\n",
      "deferral_payments            39 non-null float64\n",
      "total_payments               125 non-null float64\n",
      "loan_advances                4 non-null float64\n",
      "bonus                        82 non-null float64\n",
      "restricted_stock_deferred    18 non-null float64\n",
      "deferred_income              49 non-null float64\n",
      "total_stock_value            126 non-null float64\n",
      "expenses                     95 non-null float64\n",
      "from_poi_to_this_person      86 non-null float64\n",
      "exercised_stock_options      102 non-null float64\n",
      "from_messages                86 non-null float64\n",
      "other                        93 non-null float64\n",
      "from_this_person_to_poi      86 non-null float64\n",
      "poi                          146 non-null bool\n",
      "long_term_incentive          66 non-null float64\n",
      "shared_receipt_with_poi      86 non-null float64\n",
      "restricted_stock             110 non-null float64\n",
      "director_fees                17 non-null float64\n",
      "dtypes: bool(1), float64(19)\n",
      "memory usage: 23.0+ KB\n"
     ]
    }
   ],
   "source": [
    "# Change columns type to numeric\n",
    "df_enron = df_enron.apply(pd.to_numeric, errors='coerce')\n",
    "\n",
    "# Check Dataframe after to_numeric\n",
    "df_enron.info()"
   ]
  },
  {
   "cell_type": "code",
   "execution_count": 7,
   "metadata": {},
   "outputs": [],
   "source": [
    "# Fillna with 0 to replace NaN\n",
    "df_enron = df_enron.fillna(0.0)"
   ]
  },
  {
   "cell_type": "code",
   "execution_count": 8,
   "metadata": {},
   "outputs": [],
   "source": [
    "# Rescale feature values with MinMaxScaler\n",
    "from sklearn.preprocessing import MinMaxScaler\n",
    "scaler = MinMaxScaler()\n",
    "X = scaler.fit_transform(df_enron.drop('poi', axis=1))\n",
    "y = df_enron.poi"
   ]
  },
  {
   "cell_type": "code",
   "execution_count": 9,
   "metadata": {},
   "outputs": [
    {
     "data": {
      "text/plain": [
       "array([[7.56265983e-03, 1.91563800e-01, 9.23453242e-02, ...,\n",
       "        2.54845137e-01, 2.05415103e-02, 0.00000000e+00],\n",
       "       [0.00000000e+00, 0.00000000e+00, 8.74544552e-03, ...,\n",
       "        0.00000000e+00, 1.95934169e-02, 0.00000000e+00],\n",
       "       [1.78623393e-05, 3.73622021e-02, 3.18462472e-03, ...,\n",
       "        8.42238725e-02, 3.28153718e-02, 0.00000000e+00],\n",
       "       ...,\n",
       "       [0.00000000e+00, 0.00000000e+00, 3.18462472e-03, ...,\n",
       "        0.00000000e+00, 1.95934169e-02, 0.00000000e+00],\n",
       "       [5.93175710e-03, 0.00000000e+00, 3.18462472e-03, ...,\n",
       "        0.00000000e+00, 4.64969932e-02, 0.00000000e+00],\n",
       "       [0.00000000e+00, 0.00000000e+00, 3.18462472e-03, ...,\n",
       "        0.00000000e+00, 1.95934169e-02, 0.00000000e+00]])"
      ]
     },
     "execution_count": 9,
     "metadata": {},
     "output_type": "execute_result"
    }
   ],
   "source": [
    "# Inspect X\n",
    "X"
   ]
  },
  {
   "cell_type": "code",
   "execution_count": 10,
   "metadata": {},
   "outputs": [
    {
     "name": "stdout",
     "output_type": "stream",
     "text": [
      "[0.05118519 0.02861842 0.02876354 0.06838616 0.01090097 0.10525488\n",
      " 0.00609845 0.04645121 0.06997101 0.0388131  0.07626915 0.09405769\n",
      " 0.02923201 0.07241879 0.06477549 0.06581927 0.07430118 0.06841666\n",
      " 0.00026681]\n"
     ]
    },
    {
     "name": "stderr",
     "output_type": "stream",
     "text": [
      "/usr/local/lib/python3.6/dist-packages/sklearn/ensemble/forest.py:246: FutureWarning: The default value of n_estimators will change from 10 in version 0.20 to 100 in 0.22.\n",
      "  \"10 in version 0.20 to 100 in 0.22.\", FutureWarning)\n"
     ]
    }
   ],
   "source": [
    "# Define relative importance for the features\n",
    "from sklearn.ensemble import ExtraTreesClassifier\n",
    "import matplotlib.pyplot as plt\n",
    "model = ExtraTreesClassifier()\n",
    "model.fit(X,y)\n",
    "print(model.feature_importances_) #use inbuilt class feature_importances of tree based classifiers\n",
    "#plot graph of feature importances for better visualization\n",
    "feat_importances = pd.Series(model.feature_importances_, index=df_enron.drop(\n",
    "                                                           'poi', axis=1).columns)"
   ]
  },
  {
   "cell_type": "code",
   "execution_count": 11,
   "metadata": {},
   "outputs": [],
   "source": [
    "# Convert results to Dataframe and sort it\n",
    "df_features_importance = pd.DataFrame(feat_importances, columns=['values'])\n",
    "df_features_importance = df_features_importance.sort_values(by='values')"
   ]
  },
  {
   "cell_type": "code",
   "execution_count": 12,
   "metadata": {
    "scrolled": true
   },
   "outputs": [
    {
     "data": {
      "image/png": "[encoded data removed]",
      "text/plain": [
       "<Figure size 432x288 with 1 Axes>"
      ]
     },
     "metadata": {},
     "output_type": "display_data"
    }
   ],
   "source": [
    "# Plot the feature importance as horizontal barplot\n",
    "ax = sns.barplot(y=df_features_importance.index, x='values', data=df_features_importance,\n",
    "           orient='h')\n",
    "ax.set_title('Feature Importance in Enron Dataset')\n",
    "plt.tight_layout()\n",
    "ax.figure.savefig('feature_importance.png', dpi=300, orientation='landscape')"
   ]
  },
  {
   "cell_type": "code",
   "execution_count": 13,
   "metadata": {
    "scrolled": true
   },
   "outputs": [
    {
     "data": {
      "text/plain": [
       "array([[7.56265983e-03, 1.91563800e-01, 9.23453242e-02, ...,\n",
       "        2.54845137e-01, 2.05415103e-02, 0.00000000e+00],\n",
       "       [0.00000000e+00, 0.00000000e+00, 8.74544552e-03, ...,\n",
       "        0.00000000e+00, 1.95934169e-02, 0.00000000e+00],\n",
       "       [1.78623393e-05, 3.73622021e-02, 3.18462472e-03, ...,\n",
       "        8.42238725e-02, 3.28153718e-02, 0.00000000e+00],\n",
       "       ...,\n",
       "       [0.00000000e+00, 0.00000000e+00, 3.18462472e-03, ...,\n",
       "        0.00000000e+00, 1.95934169e-02, 0.00000000e+00],\n",
       "       [5.93175710e-03, 0.00000000e+00, 3.18462472e-03, ...,\n",
       "        0.00000000e+00, 4.64969932e-02, 0.00000000e+00],\n",
       "       [0.00000000e+00, 0.00000000e+00, 3.18462472e-03, ...,\n",
       "        0.00000000e+00, 1.95934169e-02, 0.00000000e+00]])"
      ]
     },
     "execution_count": 13,
     "metadata": {},
     "output_type": "execute_result"
    }
   ],
   "source": [
    "X"
   ]
  },
  {
   "cell_type": "code",
   "execution_count": 14,
   "metadata": {},
   "outputs": [
    {
     "data": {
      "text/plain": [
       "array([[7.56265983e-03, 1.91563800e-01, 9.23453242e-02, ...,\n",
       "        2.54845137e-01, 2.05415103e-02, 0.00000000e+00],\n",
       "       [0.00000000e+00, 0.00000000e+00, 8.74544552e-03, ...,\n",
       "        0.00000000e+00, 1.95934169e-02, 0.00000000e+00],\n",
       "       [1.78623393e-05, 3.73622021e-02, 3.18462472e-03, ...,\n",
       "        8.42238725e-02, 3.28153718e-02, 0.00000000e+00],\n",
       "       ...,\n",
       "       [0.00000000e+00, 0.00000000e+00, 3.18462472e-03, ...,\n",
       "        0.00000000e+00, 1.95934169e-02, 0.00000000e+00],\n",
       "       [5.93175710e-03, 0.00000000e+00, 3.18462472e-03, ...,\n",
       "        0.00000000e+00, 4.64969932e-02, 0.00000000e+00],\n",
       "       [0.00000000e+00, 0.00000000e+00, 3.18462472e-03, ...,\n",
       "        0.00000000e+00, 1.95934169e-02, 0.00000000e+00]])"
      ]
     },
     "execution_count": 14,
     "metadata": {},
     "output_type": "execute_result"
    }
   ],
   "source": [
    "X"
   ]
  },
  {
   "cell_type": "code",
   "execution_count": 15,
   "metadata": {},
   "outputs": [],
   "source": [
    "# Selecting the best features on our dataset\n",
    "from sklearn.feature_selection import SelectKBest\n",
    "from sklearn.feature_selection import chi2\n",
    "\n",
    "selector_6 = SelectKBest(chi2, k=6)\n",
    "selector_6.fit_transform(X, y)\n",
    "best_6_feats = selector_6.get_support(indices=True)\n",
    "\n",
    "selector_9 = SelectKBest(chi2, k=9)\n",
    "selector_9.fit_transform(X, y)\n",
    "best_9_feats = selector_9.get_support(indices=True)\n",
    "\n",
    "selector_12 = SelectKBest(chi2, k=12)\n",
    "selector_12.fit_transform(X, y)\n",
    "best_12_feats = selector_12.get_support(indices=True)\n",
    "\n",
    "selector_15 = SelectKBest(chi2, k=15)\n",
    "selector_15.fit_transform(X, y)\n",
    "best_15_feats = selector_15.get_support(indices=True)\n"
   ]
  },
  {
   "cell_type": "code",
   "execution_count": 16,
   "metadata": {},
   "outputs": [
    {
     "data": {
      "text/plain": [
       "array([ 1,  2,  3,  4,  5,  8, 10, 11, 12, 13, 14, 15, 16, 17, 18])"
      ]
     },
     "execution_count": 16,
     "metadata": {},
     "output_type": "execute_result"
    }
   ],
   "source": [
    "best_15_feats"
   ]
  },
  {
   "cell_type": "code",
   "execution_count": 17,
   "metadata": {},
   "outputs": [
    {
     "name": "stdout",
     "output_type": "stream",
     "text": [
      "Best 6 features: ['to_messages', 'loan_advances', 'from_poi_to_this_person', 'from_this_person_to_poi', 'shared_receipt_with_poi', 'director_fees']\n",
      "\n",
      "Best 9 features: ['to_messages', 'deferral_payments', 'total_payments', 'loan_advances', 'from_poi_to_this_person', 'exercised_stock_options', 'from_this_person_to_poi', 'shared_receipt_with_poi', 'director_fees']\n",
      "\n",
      "Best 12 features: ['to_messages', 'deferral_payments', 'total_payments', 'loan_advances', 'bonus', 'total_stock_value', 'from_poi_to_this_person', 'exercised_stock_options', 'from_messages', 'from_this_person_to_poi', 'shared_receipt_with_poi', 'director_fees']\n",
      "\n",
      "Best 15 features: ['to_messages', 'deferral_payments', 'total_payments', 'loan_advances', 'bonus', 'total_stock_value', 'from_poi_to_this_person', 'exercised_stock_options', 'from_messages', 'other', 'from_this_person_to_poi', 'long_term_incentive', 'shared_receipt_with_poi', 'restricted_stock', 'director_fees']\n"
     ]
    }
   ],
   "source": [
    "# Print the list of 8, 10, 12 and 16 best features\n",
    "selected_6_feats = list(df_enron.drop('poi', axis=1).columns[best_6_feats])\n",
    "selected_9_feats = list(df_enron.drop('poi', axis=1).columns[best_9_feats])\n",
    "selected_12_feats = list(df_enron.drop('poi', axis=1).columns[best_12_feats])\n",
    "selected_15_feats = list(df_enron.drop('poi', axis=1).columns[best_15_feats])\n",
    "\n",
    "print('Best 6 features: {}'.format(selected_6_feats))\n",
    "print('\\nBest 9 features: {}'.format(selected_9_feats))\n",
    "print('\\nBest 12 features: {}'.format(selected_12_feats))\n",
    "print('\\nBest 15 features: {}'.format(selected_15_feats))"
   ]
  },
  {
   "cell_type": "code",
   "execution_count": 18,
   "metadata": {},
   "outputs": [
    {
     "data": {
      "text/plain": [
       "12"
      ]
     },
     "execution_count": 18,
     "metadata": {},
     "output_type": "execute_result"
    }
   ],
   "source": [
    "# Test a simple model to see how many features should we use\n",
    "len(selected_12_feats)"
   ]
  },
  {
   "cell_type": "code",
   "execution_count": 19,
   "metadata": {},
   "outputs": [
    {
     "data": {
      "text/plain": [
       "['to_messages',\n",
       " 'deferral_payments',\n",
       " 'total_payments',\n",
       " 'loan_advances',\n",
       " 'bonus',\n",
       " 'total_stock_value',\n",
       " 'from_poi_to_this_person',\n",
       " 'exercised_stock_options',\n",
       " 'from_messages',\n",
       " 'other',\n",
       " 'from_this_person_to_poi',\n",
       " 'long_term_incentive',\n",
       " 'shared_receipt_with_poi',\n",
       " 'restricted_stock',\n",
       " 'director_fees']"
      ]
     },
     "execution_count": 19,
     "metadata": {},
     "output_type": "execute_result"
    }
   ],
   "source": [
    "selected_15_feats"
   ]
  },
  {
   "cell_type": "code",
   "execution_count": 93,
   "metadata": {},
   "outputs": [
    {
     "data": {
      "text/plain": [
       "(146, 15)"
      ]
     },
     "execution_count": 93,
     "metadata": {},
     "output_type": "execute_result"
    }
   ],
   "source": [
    "# Redefine X\n",
    "#X = scaler.fit_transform(df_enron[features_list].drop('poi', axis=1))\n",
    "X = scaler.fit_transform(df_enron[selected_15_feats])\n",
    "X.shape"
   ]
  },
  {
   "cell_type": "code",
   "execution_count": 94,
   "metadata": {},
   "outputs": [
    {
     "name": "stderr",
     "output_type": "stream",
     "text": [
      "/usr/local/lib/python3.6/dist-packages/ipykernel_launcher.py:11: FutureWarning: Sorting because non-concatenation axis is not aligned. A future version\n",
      "of pandas will change to not sort by default.\n",
      "\n",
      "To accept the future behavior, pass 'sort=False'.\n",
      "\n",
      "To retain the current behavior and silence the warning, pass 'sort=True'.\n",
      "\n",
      "  # This is added back by InteractiveShellApp.init_path()\n"
     ]
    }
   ],
   "source": [
    "# As mentioned on the report, we applied PCA to define outliers\n",
    "from sklearn.decomposition import PCA\n",
    "pca = PCA(n_components=2, random_state=42)\n",
    "dim_red = pca.fit_transform(X)\n",
    "\n",
    "# Transform PCA results into Dataframe\n",
    "pca_df = pd.DataFrame(dim_red, columns=[\n",
    "    'PCA1', 'PCA2'], index=df_enron.index)\n",
    "\n",
    "# Concatenate with y series as for labels\n",
    "pca_df = pd.concat([pca_df, pd.DataFrame(y)], axis=1)\n",
    "\n",
    "# Get z-score for each component\n",
    "pca_df['PCA1_zscore'] = (pca_df.PCA1 - pca_df.PCA1.mean()) / pca_df.PCA1.std()\n",
    "pca_df['PCA2_zscore'] = (pca_df.PCA2 - pca_df.PCA2.mean()) / pca_df.PCA2.std()\n",
    "\n",
    "# Get rows that are 3 standard deviations away from meanlist_outliers_pca\n",
    "list_outliers_pca = (pca_df[(np.abs(pca_df.PCA1_zscore) > 3)\n",
    "                            | (np.abs(pca_df.PCA2_zscore) > 3)]).index"
   ]
  },
  {
   "cell_type": "code",
   "execution_count": 95,
   "metadata": {},
   "outputs": [
    {
     "data": {
      "text/plain": [
       "Index(['BELDEN TIMOTHY N', 'KEAN STEVEN J', 'KITCHEN LOUISE',\n",
       "       'LAVORATO JOHN J', 'SHAPIRO RICHARD S', 'TOTAL'],\n",
       "      dtype='object')"
      ]
     },
     "execution_count": 95,
     "metadata": {},
     "output_type": "execute_result"
    }
   ],
   "source": [
    "list_outliers_pca"
   ]
  },
  {
   "cell_type": "code",
   "execution_count": 96,
   "metadata": {},
   "outputs": [
    {
     "data": {
      "text/html": [
       "<div>\n",
       "<style scoped>\n",
       "    .dataframe tbody tr th:only-of-type {\n",
       "        vertical-align: middle;\n",
       "    }\n",
       "\n",
       "    .dataframe tbody tr th {\n",
       "        vertical-align: top;\n",
       "    }\n",
       "\n",
       "    .dataframe thead th {\n",
       "        text-align: right;\n",
       "    }\n",
       "</style>\n",
       "<table border=\"1\" class=\"dataframe\">\n",
       "  <thead>\n",
       "    <tr style=\"text-align: right;\">\n",
       "      <th></th>\n",
       "      <th>PCA1</th>\n",
       "      <th>PCA2</th>\n",
       "      <th>poi</th>\n",
       "      <th>PCA1_zscore</th>\n",
       "      <th>PCA2_zscore</th>\n",
       "    </tr>\n",
       "  </thead>\n",
       "  <tbody>\n",
       "    <tr>\n",
       "      <th>ALLEN PHILLIP K</th>\n",
       "      <td>0.193379</td>\n",
       "      <td>0.000079</td>\n",
       "      <td>False</td>\n",
       "      <td>0.697982</td>\n",
       "      <td>0.000298</td>\n",
       "    </tr>\n",
       "    <tr>\n",
       "      <th>BADUM JAMES P</th>\n",
       "      <td>-0.172304</td>\n",
       "      <td>-0.034684</td>\n",
       "      <td>False</td>\n",
       "      <td>-0.621916</td>\n",
       "      <td>-0.130412</td>\n",
       "    </tr>\n",
       "    <tr>\n",
       "      <th>BANNANTINE JAMES M</th>\n",
       "      <td>-0.066747</td>\n",
       "      <td>-0.017696</td>\n",
       "      <td>False</td>\n",
       "      <td>-0.240916</td>\n",
       "      <td>-0.066536</td>\n",
       "    </tr>\n",
       "    <tr>\n",
       "      <th>BAXTER JOHN C</th>\n",
       "      <td>-0.170431</td>\n",
       "      <td>0.038677</td>\n",
       "      <td>False</td>\n",
       "      <td>-0.615154</td>\n",
       "      <td>0.145424</td>\n",
       "    </tr>\n",
       "    <tr>\n",
       "      <th>BAY FRANKLIN R</th>\n",
       "      <td>-0.172081</td>\n",
       "      <td>-0.024783</td>\n",
       "      <td>False</td>\n",
       "      <td>-0.621109</td>\n",
       "      <td>-0.093182</td>\n",
       "    </tr>\n",
       "  </tbody>\n",
       "</table>\n",
       "</div>"
      ],
      "text/plain": [
       "                        PCA1      PCA2    poi  PCA1_zscore  PCA2_zscore\n",
       "ALLEN PHILLIP K     0.193379  0.000079  False     0.697982     0.000298\n",
       "BADUM JAMES P      -0.172304 -0.034684  False    -0.621916    -0.130412\n",
       "BANNANTINE JAMES M -0.066747 -0.017696  False    -0.240916    -0.066536\n",
       "BAXTER JOHN C      -0.170431  0.038677  False    -0.615154     0.145424\n",
       "BAY FRANKLIN R     -0.172081 -0.024783  False    -0.621109    -0.093182"
      ]
     },
     "execution_count": 96,
     "metadata": {},
     "output_type": "execute_result"
    }
   ],
   "source": [
    "# Inspect pca_df\n",
    "pca_df.head()"
   ]
  },
  {
   "cell_type": "code",
   "execution_count": 97,
   "metadata": {},
   "outputs": [],
   "source": [
    "# Function to create new column with labels of poi\n",
    "def poi_n_poi(row):\n",
    "    if row.poi == False:\n",
    "        return 'non-poi'\n",
    "    elif row.poi == True:\n",
    "        return 'poi'\n",
    "    else:\n",
    "        return None\n",
    "\n",
    "# Apply function to new pca_df column 'label'\n",
    "pca_df['label'] = pca_df.apply(poi_n_poi, axis=1)"
   ]
  },
  {
   "cell_type": "code",
   "execution_count": 98,
   "metadata": {},
   "outputs": [],
   "source": [
    "# Set label values for outliers\n",
    "pca_df.loc[list(list_outliers_pca), 'label'] = 'outlier'"
   ]
  },
  {
   "cell_type": "code",
   "execution_count": 99,
   "metadata": {
    "scrolled": true
   },
   "outputs": [
    {
     "data": {
      "image/png": "[encoded data removed]",
      "text/plain": [
       "<Figure size 432x288 with 1 Axes>"
      ]
     },
     "metadata": {},
     "output_type": "display_data"
    }
   ],
   "source": [
    "# Plot the 2 PCA components as scatter to visualize outliers\n",
    "ax = sns.scatterplot(data=pca_df, x='PCA1', y='PCA2', hue='label')\n",
    "ax.set_title('PCA analysis')\n",
    "ax.figure.savefig('PCA_analysis_plot.png', dpi=300)"
   ]
  },
  {
   "cell_type": "code",
   "execution_count": 104,
   "metadata": {},
   "outputs": [],
   "source": [
    "# Remove outliers from the dataset\n",
    "df_features_no_outliers = df_enron.drop(list_outliers_pca)\n",
    "X = df_features_no_outliers[selected_15_feats]\n",
    "y = df_features_no_outliers.poi"
   ]
  },
  {
   "cell_type": "code",
   "execution_count": 105,
   "metadata": {},
   "outputs": [
    {
     "name": "stdout",
     "output_type": "stream",
     "text": [
      "False    0.878571\n",
      "True     0.121429\n",
      "Name: poi, dtype: float64\n"
     ]
    }
   ],
   "source": [
    "# Get ration of POI and non-POI\n",
    "poi_class = df_features_no_outliers['poi'].value_counts()\n",
    "print(poi_class / df_features_no_outliers.shape[0])"
   ]
  },
  {
   "cell_type": "code",
   "execution_count": 106,
   "metadata": {},
   "outputs": [],
   "source": [
    "# Set random seed to reproductibilty\n",
    "np.random.seed(1234)\n",
    "\n",
    "# Generate artificial samples with SMOTE to deal with class imbalance\n",
    "from imblearn.over_sampling import SMOTE\n",
    "\n",
    "# Define the resampling method\n",
    "method = SMOTE(kind='regular', random_state=42)\n",
    "\n",
    "# Create the resampled feature set\n",
    "X_resampled, y_resampled = method.fit_sample(X, y)\n",
    "\n",
    "# Use shuffle to mix generated synthetic samples\n",
    "from sklearn.utils import shuffle\n",
    "X_resampled,  y_resampled = shuffle(X_resampled,  y_resampled)"
   ]
  },
  {
   "cell_type": "code",
   "execution_count": 107,
   "metadata": {},
   "outputs": [
    {
     "data": {
      "text/plain": [
       "(246, 15)"
      ]
     },
     "execution_count": 107,
     "metadata": {},
     "output_type": "execute_result"
    }
   ],
   "source": [
    "X_resampled.shape"
   ]
  },
  {
   "cell_type": "code",
   "execution_count": 108,
   "metadata": {},
   "outputs": [],
   "source": [
    "# Split your data X and y, into a training and a test set and fit the\n",
    "# pipeline onto the training data\n",
    "from sklearn.model_selection import train_test_split\n",
    "X_train, X_test, y_train, y_test = train_test_split(\n",
    "    X_resampled,  y_resampled, test_size=0.3, random_state=0)"
   ]
  },
  {
   "cell_type": "code",
   "execution_count": 109,
   "metadata": {},
   "outputs": [
    {
     "data": {
      "text/plain": [
       "(172, 15)"
      ]
     },
     "execution_count": 109,
     "metadata": {},
     "output_type": "execute_result"
    }
   ],
   "source": [
    "X_train.shape"
   ]
  },
  {
   "cell_type": "code",
   "execution_count": 110,
   "metadata": {},
   "outputs": [
    {
     "name": "stdout",
     "output_type": "stream",
     "text": [
      "GaussianNB(priors=None, var_smoothing=1e-09)\n",
      "GaussianNB\n",
      "0.8522058823529413\n",
      "              precision    recall  f1-score   support\n",
      "\n",
      "       False       0.50      0.91      0.65        34\n",
      "        True       0.75      0.23      0.35        40\n",
      "\n",
      "   micro avg       0.54      0.54      0.54        74\n",
      "   macro avg       0.62      0.57      0.50        74\n",
      "weighted avg       0.64      0.54      0.48        74\n",
      "\n",
      "[[31  3]\n",
      " [31  9]]\n",
      "RandomForestClassifier(bootstrap=True, class_weight=None, criterion='gini',\n",
      "            max_depth=None, max_features='auto', max_leaf_nodes=None,\n",
      "            min_impurity_decrease=0.0, min_impurity_split=None,\n",
      "            min_samples_leaf=1, min_samples_split=2,\n",
      "            min_weight_fraction_leaf=0.0, n_estimators='warn', n_jobs=None,\n",
      "            oob_score=False, random_state=42, verbose=0, warm_start=False)\n",
      "RandomForestClassifier\n",
      "0.9522058823529411\n",
      "              precision    recall  f1-score   support\n",
      "\n",
      "       False       0.86      0.91      0.89        34\n",
      "        True       0.92      0.88      0.90        40\n",
      "\n",
      "   micro avg       0.89      0.89      0.89        74\n",
      "   macro avg       0.89      0.89      0.89        74\n",
      "weighted avg       0.89      0.89      0.89        74\n",
      "\n",
      "[[31  3]\n",
      " [ 5 35]]\n",
      "LogisticRegression(C=1.0, class_weight=None, dual=False, fit_intercept=True,\n",
      "          intercept_scaling=1, max_iter=100, multi_class='warn',\n",
      "          n_jobs=None, penalty='l2', random_state=42, solver='warn',\n",
      "          tol=0.0001, verbose=0, warm_start=False)\n",
      "LogisticRegression\n",
      "0.8713235294117647\n",
      "              precision    recall  f1-score   support\n",
      "\n",
      "       False       0.87      0.76      0.81        34\n",
      "        True       0.82      0.90      0.86        40\n",
      "\n",
      "   micro avg       0.84      0.84      0.84        74\n",
      "   macro avg       0.84      0.83      0.83        74\n",
      "weighted avg       0.84      0.84      0.84        74\n",
      "\n",
      "[[26  8]\n",
      " [ 4 36]]\n"
     ]
    },
    {
     "name": "stderr",
     "output_type": "stream",
     "text": [
      "/usr/local/lib/python3.6/dist-packages/sklearn/ensemble/forest.py:246: FutureWarning: The default value of n_estimators will change from 10 in version 0.20 to 100 in 0.22.\n",
      "  \"10 in version 0.20 to 100 in 0.22.\", FutureWarning)\n",
      "/usr/local/lib/python3.6/dist-packages/sklearn/linear_model/logistic.py:433: FutureWarning: Default solver will be changed to 'lbfgs' in 0.22. Specify a solver to silence this warning.\n",
      "  FutureWarning)\n"
     ]
    }
   ],
   "source": [
    "# Test the performance of a few classifiers\n",
    "from sklearn.metrics import roc_auc_score, recall_score, precision_score, f1_score\n",
    "from sklearn.naive_bayes import GaussianNB\n",
    "\n",
    "clf = GaussianNB()\n",
    "print(clf)\n",
    "print('GaussianNB')\n",
    "clf.fit(X_train, y_train)\n",
    "predicted = clf.predict(X_test)\n",
    "probs = clf.predict_proba(X_test)\n",
    "# Print the ROC curve, classification report and confusion matrix\n",
    "from sklearn.metrics import confusion_matrix, classification_report, roc_auc_score\n",
    "print(roc_auc_score(y_test, probs[:, 1]))\n",
    "print(classification_report(y_test, predicted))\n",
    "print(confusion_matrix(y_test, predicted))\n",
    "\n",
    "from sklearn.ensemble import RandomForestClassifier\n",
    "clf = RandomForestClassifier(random_state=42)\n",
    "print(clf)\n",
    "print('RandomForestClassifier')\n",
    "clf.fit(X_train, y_train)\n",
    "predicted = clf.predict(X_test)\n",
    "probs = clf.predict_proba(X_test)\n",
    "# Print the ROC curve, classification report and confusion matrix\n",
    "print(roc_auc_score(y_test, probs[:, 1]))\n",
    "print(classification_report(y_test, predicted))\n",
    "print(confusion_matrix(y_test, predicted))\n",
    "\n",
    "from sklearn.linear_model import LogisticRegression\n",
    "clf = LogisticRegression(random_state=42)\n",
    "print(clf)\n",
    "print('LogisticRegression')\n",
    "clf.fit(X_train, y_train)\n",
    "predicted = clf.predict(X_test)\n",
    "probs = clf.predict_proba(X_test)\n",
    "# Print the ROC curve, classification report and confusion matrix\n",
    "print(roc_auc_score(y_test, probs[:, 1]))\n",
    "print(classification_report(y_test, predicted))\n",
    "print(confusion_matrix(y_test, predicted))"
   ]
  },
  {
   "cell_type": "code",
   "execution_count": 111,
   "metadata": {},
   "outputs": [
    {
     "name": "stdout",
     "output_type": "stream",
     "text": [
      "['poi', 'to_messages', 'deferral_payments', 'total_payments', 'loan_advances', 'bonus', 'total_stock_value', 'expenses', 'from_poi_to_this_person', 'exercised_stock_options', 'from_messages', 'other', 'from_this_person_to_poi', 'long_term_incentive', 'shared_receipt_with_poi', 'restricted_stock']\n"
     ]
    }
   ],
   "source": [
    "# Set features to be used on analysis\n",
    "features_list = ['poi'] + selected_15_feats\n",
    "print(features_list)"
   ]
  },
  {
   "cell_type": "code",
   "execution_count": 113,
   "metadata": {},
   "outputs": [],
   "source": [
    "## Use GridSearchCV to optimize RandomForestClassifier\n",
    "from sklearn.model_selection import GridSearchCV\n",
    "from sklearn.ensemble import RandomForestClassifier\n",
    "# Create the parameter grid \n",
    "param_grid = {\n",
    "    'max_depth': [80, 90, 100, 110,150, 200],\n",
    "    'max_features': [None, 'auto', 2, 3, 6, 9, 12],\n",
    "    'min_samples_leaf': [2, 4, 6, 12],\n",
    "    'min_samples_split': [8, 10, 12],\n",
    "    'n_estimators': [100, 200, 300, 1000],\n",
    "    'class_weight': ['balanced','balanced_subsample', {0:1, 1:6}, {0:1, 1:3}] \n",
    "}"
   ]
  },
  {
   "cell_type": "code",
   "execution_count": null,
   "metadata": {},
   "outputs": [
    {
     "name": "stdout",
     "output_type": "stream",
     "text": [
      "Fitting 5 folds for each of 8064 candidates, totalling 40320 fits\n"
     ]
    },
    {
     "name": "stderr",
     "output_type": "stream",
     "text": [
      "[Parallel(n_jobs=-1)]: Using backend LokyBackend with 8 concurrent workers.\n",
      "[Parallel(n_jobs=-1)]: Done   2 tasks      | elapsed:    0.8s\n",
      "[Parallel(n_jobs=-1)]: Done   9 tasks      | elapsed:    1.1s\n",
      "[Parallel(n_jobs=-1)]: Done  16 tasks      | elapsed:    1.4s\n",
      "[Parallel(n_jobs=-1)]: Done  25 tasks      | elapsed:    2.0s\n",
      "[Parallel(n_jobs=-1)]: Done  34 tasks      | elapsed:    2.4s\n",
      "[Parallel(n_jobs=-1)]: Done  45 tasks      | elapsed:    3.1s\n",
      "[Parallel(n_jobs=-1)]: Done  56 tasks      | elapsed:    3.6s\n",
      "[Parallel(n_jobs=-1)]: Done  69 tasks      | elapsed:    4.4s\n",
      "[Parallel(n_jobs=-1)]: Done  82 tasks      | elapsed:    5.0s\n",
      "[Parallel(n_jobs=-1)]: Done  97 tasks      | elapsed:    5.7s\n",
      "[Parallel(n_jobs=-1)]: Done 112 tasks      | elapsed:    6.7s\n",
      "[Parallel(n_jobs=-1)]: Done 129 tasks      | elapsed:    7.6s\n",
      "[Parallel(n_jobs=-1)]: Done 146 tasks      | elapsed:    8.6s\n",
      "[Parallel(n_jobs=-1)]: Done 165 tasks      | elapsed:    9.5s\n",
      "[Parallel(n_jobs=-1)]: Done 184 tasks      | elapsed:   10.4s\n",
      "[Parallel(n_jobs=-1)]: Done 205 tasks      | elapsed:   11.4s\n",
      "[Parallel(n_jobs=-1)]: Done 226 tasks      | elapsed:   12.6s\n",
      "[Parallel(n_jobs=-1)]: Done 249 tasks      | elapsed:   13.6s\n",
      "[Parallel(n_jobs=-1)]: Done 272 tasks      | elapsed:   14.6s\n",
      "[Parallel(n_jobs=-1)]: Done 297 tasks      | elapsed:   15.7s\n",
      "[Parallel(n_jobs=-1)]: Done 322 tasks      | elapsed:   16.8s\n",
      "[Parallel(n_jobs=-1)]: Done 349 tasks      | elapsed:   18.1s\n",
      "[Parallel(n_jobs=-1)]: Done 376 tasks      | elapsed:   19.2s\n",
      "[Parallel(n_jobs=-1)]: Done 405 tasks      | elapsed:   20.5s\n",
      "[Parallel(n_jobs=-1)]: Done 434 tasks      | elapsed:   21.8s\n",
      "[Parallel(n_jobs=-1)]: Done 465 tasks      | elapsed:   23.2s\n",
      "[Parallel(n_jobs=-1)]: Done 496 tasks      | elapsed:   24.5s\n",
      "[Parallel(n_jobs=-1)]: Done 529 tasks      | elapsed:   26.0s\n",
      "[Parallel(n_jobs=-1)]: Done 562 tasks      | elapsed:   27.4s\n",
      "[Parallel(n_jobs=-1)]: Done 597 tasks      | elapsed:   28.9s\n",
      "[Parallel(n_jobs=-1)]: Done 632 tasks      | elapsed:   30.5s\n",
      "[Parallel(n_jobs=-1)]: Done 669 tasks      | elapsed:   32.2s\n",
      "[Parallel(n_jobs=-1)]: Done 706 tasks      | elapsed:   33.9s\n",
      "[Parallel(n_jobs=-1)]: Done 745 tasks      | elapsed:   35.5s\n",
      "[Parallel(n_jobs=-1)]: Done 784 tasks      | elapsed:   37.3s\n",
      "[Parallel(n_jobs=-1)]: Done 825 tasks      | elapsed:   39.1s\n",
      "[Parallel(n_jobs=-1)]: Done 866 tasks      | elapsed:   41.1s\n",
      "[Parallel(n_jobs=-1)]: Done 909 tasks      | elapsed:   43.0s\n",
      "[Parallel(n_jobs=-1)]: Done 952 tasks      | elapsed:   44.7s\n",
      "[Parallel(n_jobs=-1)]: Done 997 tasks      | elapsed:   46.7s\n",
      "[Parallel(n_jobs=-1)]: Done 1042 tasks      | elapsed:   48.8s\n",
      "[Parallel(n_jobs=-1)]: Done 1089 tasks      | elapsed:   51.0s\n",
      "[Parallel(n_jobs=-1)]: Done 1136 tasks      | elapsed:   53.1s\n",
      "[Parallel(n_jobs=-1)]: Done 1185 tasks      | elapsed:   55.4s\n",
      "[Parallel(n_jobs=-1)]: Done 1234 tasks      | elapsed:   57.7s\n",
      "[Parallel(n_jobs=-1)]: Done 1285 tasks      | elapsed:  1.0min\n",
      "[Parallel(n_jobs=-1)]: Done 1336 tasks      | elapsed:  1.0min\n",
      "[Parallel(n_jobs=-1)]: Done 1389 tasks      | elapsed:  1.1min\n",
      "[Parallel(n_jobs=-1)]: Done 1442 tasks      | elapsed:  1.1min\n",
      "[Parallel(n_jobs=-1)]: Done 1497 tasks      | elapsed:  1.2min\n",
      "[Parallel(n_jobs=-1)]: Done 1552 tasks      | elapsed:  1.2min\n",
      "[Parallel(n_jobs=-1)]: Done 1609 tasks      | elapsed:  1.3min\n",
      "[Parallel(n_jobs=-1)]: Done 1666 tasks      | elapsed:  1.3min\n",
      "[Parallel(n_jobs=-1)]: Done 1725 tasks      | elapsed:  1.4min\n",
      "[Parallel(n_jobs=-1)]: Done 1784 tasks      | elapsed:  1.4min\n",
      "[Parallel(n_jobs=-1)]: Done 1845 tasks      | elapsed:  1.5min\n",
      "[Parallel(n_jobs=-1)]: Done 1906 tasks      | elapsed:  1.5min\n",
      "[Parallel(n_jobs=-1)]: Done 1969 tasks      | elapsed:  1.6min\n",
      "[Parallel(n_jobs=-1)]: Done 2032 tasks      | elapsed:  1.6min\n",
      "[Parallel(n_jobs=-1)]: Done 2097 tasks      | elapsed:  1.7min\n",
      "[Parallel(n_jobs=-1)]: Done 2162 tasks      | elapsed:  1.7min\n",
      "[Parallel(n_jobs=-1)]: Done 2229 tasks      | elapsed:  1.8min\n",
      "[Parallel(n_jobs=-1)]: Done 2296 tasks      | elapsed:  1.8min\n",
      "[Parallel(n_jobs=-1)]: Done 2365 tasks      | elapsed:  1.9min\n",
      "[Parallel(n_jobs=-1)]: Done 2434 tasks      | elapsed:  1.9min\n",
      "[Parallel(n_jobs=-1)]: Done 2505 tasks      | elapsed:  2.0min\n",
      "[Parallel(n_jobs=-1)]: Done 2576 tasks      | elapsed:  2.0min\n",
      "[Parallel(n_jobs=-1)]: Done 2649 tasks      | elapsed:  2.1min\n",
      "[Parallel(n_jobs=-1)]: Done 2722 tasks      | elapsed:  2.1min\n",
      "[Parallel(n_jobs=-1)]: Done 2797 tasks      | elapsed:  2.2min\n",
      "[Parallel(n_jobs=-1)]: Done 2872 tasks      | elapsed:  2.2min\n",
      "[Parallel(n_jobs=-1)]: Done 2949 tasks      | elapsed:  2.3min\n",
      "[Parallel(n_jobs=-1)]: Done 3026 tasks      | elapsed:  2.4min\n",
      "[Parallel(n_jobs=-1)]: Done 3105 tasks      | elapsed:  2.4min\n",
      "[Parallel(n_jobs=-1)]: Done 3184 tasks      | elapsed:  2.5min\n",
      "[Parallel(n_jobs=-1)]: Done 3265 tasks      | elapsed:  2.5min\n",
      "[Parallel(n_jobs=-1)]: Done 3346 tasks      | elapsed:  2.6min\n",
      "[Parallel(n_jobs=-1)]: Done 3429 tasks      | elapsed:  2.7min\n",
      "[Parallel(n_jobs=-1)]: Done 3512 tasks      | elapsed:  2.8min\n",
      "[Parallel(n_jobs=-1)]: Done 3597 tasks      | elapsed:  2.8min\n",
      "[Parallel(n_jobs=-1)]: Done 3682 tasks      | elapsed:  2.9min\n",
      "[Parallel(n_jobs=-1)]: Done 3769 tasks      | elapsed:  3.0min\n",
      "[Parallel(n_jobs=-1)]: Done 3856 tasks      | elapsed:  3.0min\n",
      "[Parallel(n_jobs=-1)]: Done 3945 tasks      | elapsed:  3.1min\n",
      "[Parallel(n_jobs=-1)]: Done 4034 tasks      | elapsed:  3.2min\n",
      "[Parallel(n_jobs=-1)]: Done 4125 tasks      | elapsed:  3.2min\n",
      "[Parallel(n_jobs=-1)]: Done 4216 tasks      | elapsed:  3.3min\n",
      "[Parallel(n_jobs=-1)]: Done 4309 tasks      | elapsed:  3.4min\n",
      "[Parallel(n_jobs=-1)]: Done 4402 tasks      | elapsed:  3.4min\n",
      "[Parallel(n_jobs=-1)]: Done 4497 tasks      | elapsed:  3.5min\n",
      "[Parallel(n_jobs=-1)]: Done 4592 tasks      | elapsed:  3.6min\n",
      "[Parallel(n_jobs=-1)]: Done 4689 tasks      | elapsed:  3.7min\n",
      "[Parallel(n_jobs=-1)]: Done 4786 tasks      | elapsed:  3.7min\n",
      "[Parallel(n_jobs=-1)]: Done 4885 tasks      | elapsed:  3.8min\n",
      "[Parallel(n_jobs=-1)]: Done 4984 tasks      | elapsed:  3.9min\n",
      "[Parallel(n_jobs=-1)]: Done 5085 tasks      | elapsed:  4.0min\n",
      "[Parallel(n_jobs=-1)]: Done 5186 tasks      | elapsed:  4.1min\n",
      "[Parallel(n_jobs=-1)]: Done 5289 tasks      | elapsed:  4.2min\n",
      "[Parallel(n_jobs=-1)]: Done 5392 tasks      | elapsed:  4.2min\n",
      "[Parallel(n_jobs=-1)]: Done 5497 tasks      | elapsed:  4.3min\n",
      "[Parallel(n_jobs=-1)]: Done 5602 tasks      | elapsed:  4.4min\n",
      "[Parallel(n_jobs=-1)]: Done 5709 tasks      | elapsed:  4.5min\n",
      "[Parallel(n_jobs=-1)]: Done 5816 tasks      | elapsed:  4.5min\n",
      "[Parallel(n_jobs=-1)]: Done 5925 tasks      | elapsed:  4.6min\n",
      "[Parallel(n_jobs=-1)]: Done 6034 tasks      | elapsed:  4.7min\n",
      "[Parallel(n_jobs=-1)]: Done 6145 tasks      | elapsed:  4.8min\n",
      "[Parallel(n_jobs=-1)]: Done 6256 tasks      | elapsed:  4.9min\n",
      "[Parallel(n_jobs=-1)]: Done 6369 tasks      | elapsed:  5.0min\n",
      "[Parallel(n_jobs=-1)]: Done 6482 tasks      | elapsed:  5.1min\n",
      "[Parallel(n_jobs=-1)]: Done 6597 tasks      | elapsed:  5.2min\n",
      "[Parallel(n_jobs=-1)]: Done 6712 tasks      | elapsed:  5.3min\n",
      "[Parallel(n_jobs=-1)]: Done 6829 tasks      | elapsed:  5.4min\n",
      "[Parallel(n_jobs=-1)]: Done 6946 tasks      | elapsed:  5.5min\n",
      "[Parallel(n_jobs=-1)]: Done 7065 tasks      | elapsed:  5.6min\n",
      "[Parallel(n_jobs=-1)]: Done 7184 tasks      | elapsed:  5.7min\n",
      "[Parallel(n_jobs=-1)]: Done 7305 tasks      | elapsed:  5.8min\n",
      "[Parallel(n_jobs=-1)]: Done 7426 tasks      | elapsed:  5.8min\n",
      "[Parallel(n_jobs=-1)]: Done 7549 tasks      | elapsed:  5.9min\n",
      "[Parallel(n_jobs=-1)]: Done 7672 tasks      | elapsed:  6.0min\n",
      "[Parallel(n_jobs=-1)]: Done 7797 tasks      | elapsed:  6.1min\n",
      "[Parallel(n_jobs=-1)]: Done 7922 tasks      | elapsed:  6.2min\n",
      "[Parallel(n_jobs=-1)]: Done 8049 tasks      | elapsed:  6.3min\n",
      "[Parallel(n_jobs=-1)]: Done 8176 tasks      | elapsed:  6.4min\n",
      "[Parallel(n_jobs=-1)]: Done 8305 tasks      | elapsed:  6.5min\n",
      "[Parallel(n_jobs=-1)]: Done 8434 tasks      | elapsed:  6.7min\n",
      "[Parallel(n_jobs=-1)]: Done 8565 tasks      | elapsed:  6.8min\n",
      "[Parallel(n_jobs=-1)]: Done 8696 tasks      | elapsed:  6.9min\n",
      "[Parallel(n_jobs=-1)]: Done 8829 tasks      | elapsed:  7.0min\n",
      "[Parallel(n_jobs=-1)]: Done 8962 tasks      | elapsed:  7.1min\n",
      "[Parallel(n_jobs=-1)]: Done 9097 tasks      | elapsed:  7.2min\n"
     ]
    },
    {
     "name": "stderr",
     "output_type": "stream",
     "text": [
      "[Parallel(n_jobs=-1)]: Done 9232 tasks      | elapsed:  7.3min\n",
      "[Parallel(n_jobs=-1)]: Done 9369 tasks      | elapsed:  7.4min\n",
      "[Parallel(n_jobs=-1)]: Done 9506 tasks      | elapsed:  7.5min\n",
      "[Parallel(n_jobs=-1)]: Done 9645 tasks      | elapsed:  7.6min\n",
      "[Parallel(n_jobs=-1)]: Done 9784 tasks      | elapsed:  7.7min\n",
      "[Parallel(n_jobs=-1)]: Done 9925 tasks      | elapsed:  7.8min\n",
      "[Parallel(n_jobs=-1)]: Done 10066 tasks      | elapsed:  7.9min\n",
      "[Parallel(n_jobs=-1)]: Done 10209 tasks      | elapsed:  8.1min\n",
      "[Parallel(n_jobs=-1)]: Done 10352 tasks      | elapsed:  8.2min\n",
      "[Parallel(n_jobs=-1)]: Done 10497 tasks      | elapsed:  8.4min\n"
     ]
    }
   ],
   "source": [
    "# Define which model to use\n",
    "model = RandomForestClassifier()\n",
    "# Instantiate the grid search model\n",
    "grid_search_model = GridSearchCV(estimator = model, \n",
    "param_grid = param_grid, cv = 5,\n",
    "n_jobs = -1, scoring='f1', verbose=10)\n",
    "\n",
    "grid_search_model.fit(X_train, y_train)\n",
    "print(grid_search_model.best_params_)\n",
    "print(grid_search_model.best_estimator_)\n",
    "print(grid_search_model.best_score_)"
   ]
  },
  {
   "cell_type": "code",
   "execution_count": 40,
   "metadata": {},
   "outputs": [
    {
     "name": "stdout",
     "output_type": "stream",
     "text": [
      "RandomForestClassifier(bootstrap=True, class_weight='balanced_subsample',\n",
      "            criterion='gini', max_depth=100, max_features=6,\n",
      "            max_leaf_nodes=None, min_impurity_decrease=0.0,\n",
      "            min_impurity_split=None, min_samples_leaf=2,\n",
      "            min_samples_split=10, min_weight_fraction_leaf=0.0,\n",
      "            n_estimators=100, n_jobs=None, oob_score=False,\n",
      "            random_state=42, verbose=0, warm_start=False)\n",
      "0.9430241051862674\n",
      "              precision    recall  f1-score   support\n",
      "\n",
      "       False       0.82      0.89      0.86        37\n",
      "        True       0.88      0.81      0.85        37\n",
      "\n",
      "   micro avg       0.85      0.85      0.85        74\n",
      "   macro avg       0.85      0.85      0.85        74\n",
      "weighted avg       0.85      0.85      0.85        74\n",
      "\n",
      "[[33  4]\n",
      " [ 7 30]]\n"
     ]
    }
   ],
   "source": [
    "# Get performance metrics for the chosen model and parameters\n",
    "#np.random.seed(42)\n",
    "from sklearn.ensemble import RandomForestClassifier\n",
    "RandomForestClassifier(bootstrap=True, class_weight='balanced',\n",
    "            criterion='gini', max_depth=90, max_features=6,\n",
    "            max_leaf_nodes=None, min_impurity_decrease=0.0,\n",
    "            min_impurity_split=None, min_samples_leaf=2,\n",
    "            min_samples_split=8, min_weight_fraction_leaf=0.0,\n",
    "            n_estimators=200, n_jobs=None, oob_score=False,\n",
    "            random_state=None, verbose=0, warm_start=False)\n",
    "print(clf)\n",
    "clf.fit(X_train, y_train)\n",
    "predicted = clf.predict(X_test)\n",
    "probs = clf.predict_proba(X_test)\n",
    "print(roc_auc_score(y_test, probs[:, 1]))\n",
    "print(classification_report(y_test, predicted))\n",
    "print(confusion_matrix(y_test, predicted))\n"
   ]
  },
  {
   "cell_type": "code",
   "execution_count": 41,
   "metadata": {},
   "outputs": [
    {
     "name": "stdout",
     "output_type": "stream",
     "text": [
      "0.9919649379108839\n",
      "              precision    recall  f1-score   support\n",
      "\n",
      "       False       0.97      0.95      0.96        37\n",
      "        True       0.95      0.97      0.96        37\n",
      "\n",
      "   micro avg       0.96      0.96      0.96        74\n",
      "   macro avg       0.96      0.96      0.96        74\n",
      "weighted avg       0.96      0.96      0.96        74\n",
      "\n",
      "[[35  2]\n",
      " [ 1 36]]\n",
      "0.9722425127830534\n",
      "              precision    recall  f1-score   support\n",
      "\n",
      "       False       1.00      0.84      0.91        37\n",
      "        True       0.86      1.00      0.92        37\n",
      "\n",
      "   micro avg       0.92      0.92      0.92        74\n",
      "   macro avg       0.93      0.92      0.92        74\n",
      "weighted avg       0.93      0.92      0.92        74\n",
      "\n",
      "[[31  6]\n",
      " [ 0 37]]\n",
      "0.9693206720233748\n",
      "              precision    recall  f1-score   support\n",
      "\n",
      "       False       0.92      0.95      0.93        37\n",
      "        True       0.94      0.92      0.93        37\n",
      "\n",
      "   micro avg       0.93      0.93      0.93        74\n",
      "   macro avg       0.93      0.93      0.93        74\n",
      "weighted avg       0.93      0.93      0.93        74\n",
      "\n",
      "[[35  2]\n",
      " [ 3 34]]\n",
      "0.945945945945946\n",
      "              precision    recall  f1-score   support\n",
      "\n",
      "       False       0.82      0.86      0.84        37\n",
      "        True       0.86      0.81      0.83        37\n",
      "\n",
      "   micro avg       0.84      0.84      0.84        74\n",
      "   macro avg       0.84      0.84      0.84        74\n",
      "weighted avg       0.84      0.84      0.84        74\n",
      "\n",
      "[[32  5]\n",
      " [ 7 30]]\n",
      "0.9225712198685172\n",
      "              precision    recall  f1-score   support\n",
      "\n",
      "       False       0.82      0.89      0.86        37\n",
      "        True       0.88      0.81      0.85        37\n",
      "\n",
      "   micro avg       0.85      0.85      0.85        74\n",
      "   macro avg       0.85      0.85      0.85        74\n",
      "weighted avg       0.85      0.85      0.85        74\n",
      "\n",
      "[[33  4]\n",
      " [ 7 30]]\n",
      "0.9598246895544194\n",
      "              precision    recall  f1-score   support\n",
      "\n",
      "       False       0.91      0.78      0.84        37\n",
      "        True       0.81      0.92      0.86        37\n",
      "\n",
      "   micro avg       0.85      0.85      0.85        74\n",
      "   macro avg       0.86      0.85      0.85        74\n",
      "weighted avg       0.86      0.85      0.85        74\n",
      "\n",
      "[[29  8]\n",
      " [ 3 34]]\n",
      "0.9824689554419284\n",
      "              precision    recall  f1-score   support\n",
      "\n",
      "       False       0.94      0.89      0.92        37\n",
      "        True       0.90      0.95      0.92        37\n",
      "\n",
      "   micro avg       0.92      0.92      0.92        74\n",
      "   macro avg       0.92      0.92      0.92        74\n",
      "weighted avg       0.92      0.92      0.92        74\n",
      "\n",
      "[[33  4]\n",
      " [ 2 35]]\n",
      "0.9262235208181154\n",
      "              precision    recall  f1-score   support\n",
      "\n",
      "       False       0.86      0.81      0.83        37\n",
      "        True       0.82      0.86      0.84        37\n",
      "\n",
      "   micro avg       0.84      0.84      0.84        74\n",
      "   macro avg       0.84      0.84      0.84        74\n",
      "weighted avg       0.84      0.84      0.84        74\n",
      "\n",
      "[[30  7]\n",
      " [ 5 32]]\n",
      "0.9700511322132944\n",
      "              precision    recall  f1-score   support\n",
      "\n",
      "       False       0.91      0.86      0.89        37\n",
      "        True       0.87      0.92      0.89        37\n",
      "\n",
      "   micro avg       0.89      0.89      0.89        74\n",
      "   macro avg       0.89      0.89      0.89        74\n",
      "weighted avg       0.89      0.89      0.89        74\n",
      "\n",
      "[[32  5]\n",
      " [ 3 34]]\n",
      "0.9430241051862674\n",
      "              precision    recall  f1-score   support\n",
      "\n",
      "       False       0.82      0.89      0.86        37\n",
      "        True       0.88      0.81      0.85        37\n",
      "\n",
      "   micro avg       0.85      0.85      0.85        74\n",
      "   macro avg       0.85      0.85      0.85        74\n",
      "weighted avg       0.85      0.85      0.85        74\n",
      "\n",
      "[[33  4]\n",
      " [ 7 30]]\n",
      "Recall Score Mean: 0.8972972972972973\n",
      "Precision Score Mean: 0.8773394120539344\n",
      "F1 Score Mean: 0.8858635258231816\n"
     ]
    }
   ],
   "source": [
    "# Cross Validation of model using StratifiedShuffleSplit\n",
    "from sklearn.model_selection import StratifiedShuffleSplit\n",
    "from sklearn.metrics import roc_auc_score, recall_score, precision_score, f1_score\n",
    "from sklearn.model_selection import StratifiedShuffleSplit\n",
    "sss = StratifiedShuffleSplit(n_splits=10, test_size=0.3, random_state=42)\n",
    "sss.get_n_splits(X_resampled, y_resampled)\n",
    "\n",
    "recall_score_list = []\n",
    "precision_score_list = []\n",
    "f1_score_list = []\n",
    "\n",
    "for train_index, test_index in sss.split(X_resampled, y_resampled):\n",
    "    X_train, X_test = X_resampled[train_index], X_resampled[test_index]\n",
    "    y_train, y_test = y_resampled[train_index], y_resampled[test_index]\n",
    "    clf.fit(X_train, y_train)\n",
    "    predicted = clf.predict(X_test)\n",
    "    probs = clf.predict_proba(X_test)\n",
    "\n",
    "    # Print the ROC curve, classification report and confusion matrix\n",
    "    print(roc_auc_score(y_test, probs[:, 1]))\n",
    "    print(classification_report(y_test, predicted))\n",
    "    print(confusion_matrix(y_test, predicted))\n",
    "    recall_score_list.append(recall_score(y_test, predicted))\n",
    "    precision_score_list.append(precision_score(y_test, predicted))\n",
    "    f1_score_list.append(f1_score(y_test, predicted))\n",
    "\n",
    "print('Recall Score Mean: {}'.format(np.mean(recall_score_list)))\n",
    "print('Precision Score Mean: {}'.format(np.mean(precision_score_list)))\n",
    "print('F1 Score Mean: {}'.format(np.mean(f1_score_list)))"
   ]
  },
  {
   "cell_type": "code",
   "execution_count": null,
   "metadata": {},
   "outputs": [],
   "source": []
  }
 ],
 "metadata": {
  "kernelspec": {
   "display_name": "Python 3",
   "language": "python",
   "name": "python3"
  },
  "language_info": {
   "codemirror_mode": {
    "name": "ipython",
    "version": 3
   },
   "file_extension": ".py",
   "mimetype": "text/x-python",
   "name": "python",
   "nbconvert_exporter": "python",
   "pygments_lexer": "ipython3",
   "version": "3.6.7"
  }
 },
 "nbformat": 4,
 "nbformat_minor": 2
}
